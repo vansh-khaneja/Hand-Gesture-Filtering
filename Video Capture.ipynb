{
 "cells": [
  {
   "cell_type": "code",
   "execution_count": 21,
   "id": "007206b6",
   "metadata": {},
   "outputs": [
    {
     "name": "stdout",
     "output_type": "stream",
     "text": [
      "Frames per second using video.get(cv2.CAP_PROP_FPS) : 30\n"
     ]
    }
   ],
   "source": [
    "import cv2\n",
    "\n",
    "cap = cv2.VideoCapture(0)\n",
    "\n",
    "fps = int(cap.get(cv2.CAP_PROP_FPS))\n",
    "print(\"Frames per second using video.get(cv2.CAP_PROP_FPS) : {0}\".format(fps))\n",
    "\n",
    "start_pt = (5, 5)\n",
    "end_pt = (220, 220)\n",
    "color = (255, 0, 0)\n",
    "thickness = 2\n",
    "x = 6\n",
    "y = 6\n",
    "h = 210\n",
    "w = 210\n",
    "\n",
    "while True:\n",
    "    ret, frame = cap.read()\n",
    "    img = cv2.flip(frame, 1)\n",
    "    \n",
    "    img = cv2.rectangle(frame, start_pt, end_pt, color, thickness)\n",
    "    cropping = frame[y:y+h, x:x+w]\n",
    "    gray = cv2.cvtColor(cropping, cv2.COLOR_RGB2GRAY) \n",
    "  \n",
    "    blurred = cv2.GaussianBlur(gray,(7,7),0)\n",
    "\n",
    "    (T,threshInv) = cv2.threshold(blurred,200,255,cv2.THRESH_BINARY_INV)\n",
    "    thresh = cv2.resize(threshInv,(215,215))\n",
    "    cv2.imshow('Captured Frame', img)\n",
    "    cv2.imshow('Cropped Frame', thresh)  # Show cropped frame in a separate window\n",
    "    \n",
    "    keypress = cv2.waitKey(1) & 0xFF  # Wait for 1ms\n",
    "    \n",
    "    if keypress == ord('q'):\n",
    "        break\n",
    "\n",
    "cap.release()\n",
    "cv2.destroyAllWindows()\n"
   ]
  },
  {
   "cell_type": "code",
   "execution_count": null,
   "id": "5235811f",
   "metadata": {},
   "outputs": [],
   "source": []
  }
 ],
 "metadata": {
  "kernelspec": {
   "display_name": "Python 3 (ipykernel)",
   "language": "python",
   "name": "python3"
  },
  "language_info": {
   "codemirror_mode": {
    "name": "ipython",
    "version": 3
   },
   "file_extension": ".py",
   "mimetype": "text/x-python",
   "name": "python",
   "nbconvert_exporter": "python",
   "pygments_lexer": "ipython3",
   "version": "3.11.4"
  }
 },
 "nbformat": 4,
 "nbformat_minor": 5
}
