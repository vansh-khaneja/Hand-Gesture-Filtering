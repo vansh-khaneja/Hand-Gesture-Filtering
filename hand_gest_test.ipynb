{
 "cells": [
  {
   "cell_type": "code",
   "execution_count": 66,
   "id": "e005614a",
   "metadata": {},
   "outputs": [
    {
     "data": {
      "text/plain": [
       "<matplotlib.image.AxesImage at 0x235c51c28d0>"
      ]
     },
     "execution_count": 66,
     "metadata": {},
     "output_type": "execute_result"
    },
    {
     "data": {
      "image/png": "[encoded data removed]",
      "text/plain": [
       "<Figure size 640x480 with 1 Axes>"
      ]
     },
     "metadata": {},
     "output_type": "display_data"
    }
   ],
   "source": [
    "import cv2\n",
    "import numpy as np\n",
    "import matplotlib.pyplot as plt\n",
    "image = cv2.imread(\"C:/Users/VANSH KHANEJA/Downloads/fst.jpg\") \n",
    "  \n",
    "# convert color image into grayscale image \n",
    "gray = cv2.cvtColor(image, cv2.COLOR_RGB2GRAY) \n",
    "  \n",
    "blurred = cv2.GaussianBlur(gray,(7,7),0)\n",
    "\n",
    "(T,threshInv) = cv2.threshold(blurred,200,255,cv2.THRESH_BINARY_INV)\n",
    "thresh = cv2.resize(threshInv,(215,215))\n",
    "plt.imshow(thresh, cmap='gray') \n"
   ]
  },
  {
   "cell_type": "code",
   "execution_count": 67,
   "id": "2c5573e2",
   "metadata": {},
   "outputs": [
    {
     "data": {
      "text/plain": [
       "True"
      ]
     },
     "execution_count": 67,
     "metadata": {},
     "output_type": "execute_result"
    }
   ],
   "source": [
    "cv2.imwrite('hand_test.jpg',thresh)"
   ]
  },
  {
   "cell_type": "code",
   "execution_count": 68,
   "id": "f37dacc9",
   "metadata": {},
   "outputs": [],
   "source": [
    "import tensorflow as tf"
   ]
  },
  {
   "cell_type": "code",
   "execution_count": 37,
   "id": "11c75e04",
   "metadata": {},
   "outputs": [],
   "source": [
    "from tensorflow.keras.models import load_model"
   ]
  },
  {
   "cell_type": "code",
   "execution_count": 38,
   "id": "710c3563",
   "metadata": {},
   "outputs": [],
   "source": [
    "model = load_model('hand_gestures.h5')"
   ]
  },
  {
   "cell_type": "code",
   "execution_count": 39,
   "id": "174b0856",
   "metadata": {},
   "outputs": [
    {
     "name": "stdout",
     "output_type": "stream",
     "text": [
      "Model: \"sequential_3\"\n",
      "_________________________________________________________________\n",
      " Layer (type)                Output Shape              Param #   \n",
      "=================================================================\n",
      " conv2d_12 (Conv2D)          (None, 213, 213, 16)      448       \n",
      "                                                                 \n",
      " max_pooling2d_12 (MaxPooli  (None, 106, 106, 16)      0         \n",
      " ng2D)                                                           \n",
      "                                                                 \n",
      " conv2d_13 (Conv2D)          (None, 104, 104, 32)      4640      \n",
      "                                                                 \n",
      " max_pooling2d_13 (MaxPooli  (None, 52, 52, 32)        0         \n",
      " ng2D)                                                           \n",
      "                                                                 \n",
      " conv2d_14 (Conv2D)          (None, 50, 50, 64)        18496     \n",
      "                                                                 \n",
      " max_pooling2d_14 (MaxPooli  (None, 25, 25, 64)        0         \n",
      " ng2D)                                                           \n",
      "                                                                 \n",
      " conv2d_15 (Conv2D)          (None, 23, 23, 128)       73856     \n",
      "                                                                 \n",
      " max_pooling2d_15 (MaxPooli  (None, 11, 11, 128)       0         \n",
      " ng2D)                                                           \n",
      "                                                                 \n",
      " flatten_3 (Flatten)         (None, 15488)             0         \n",
      "                                                                 \n",
      " dense_6 (Dense)             (None, 512)               7930368   \n",
      "                                                                 \n",
      " dense_7 (Dense)             (None, 6)                 3078      \n",
      "                                                                 \n",
      "=================================================================\n",
      "Total params: 8030886 (30.64 MB)\n",
      "Trainable params: 8030886 (30.64 MB)\n",
      "Non-trainable params: 0 (0.00 Byte)\n",
      "_________________________________________________________________\n"
     ]
    }
   ],
   "source": [
    "model.summary()"
   ]
  },
  {
   "cell_type": "code",
   "execution_count": 69,
   "id": "28c111ab",
   "metadata": {},
   "outputs": [
    {
     "name": "stdout",
     "output_type": "stream",
     "text": [
      "fist\n"
     ]
    }
   ],
   "source": [
    "import os\n",
    "import numpy as np\n",
    "from tensorflow.keras.preprocessing import image\n",
    "img = image.load_img('hand_test.jpg',target_size = (215,215))\n",
    "x = image.img_to_array(img)\n",
    "x/=255\n",
    "x = np.expand_dims(x,axis=0)\n",
    "images = np.vstack([x])\n",
    "\n",
    "prediction = model.predict_on_batch(images)\n",
    "#     prediction = model.predict_on_batch(gray_image)\n",
    "\n",
    "predicted_class = np.argmax(prediction)\n",
    "if predicted_class == 0:\n",
    "    print(\"Blank\")\n",
    "elif predicted_class == 1:\n",
    "    print(\"fist\")\n",
    "elif predicted_class == 2:\n",
    "    print(\"five\")\n",
    "elif predicted_class == 3:\n",
    "    print(\"ok\")##\n",
    "elif predicted_class == 4:\n",
    "    print(\"thumb down\")##\n",
    "elif predicted_class == 5:\n",
    "    print(\"thums up\")##"
   ]
  },
  {
   "cell_type": "code",
   "execution_count": null,
   "id": "63638a33",
   "metadata": {},
   "outputs": [],
   "source": []
  },
  {
   "cell_type": "code",
   "execution_count": null,
   "id": "d23f607f",
   "metadata": {},
   "outputs": [],
   "source": []
  }
 ],
 "metadata": {
  "kernelspec": {
   "display_name": "Python 3 (ipykernel)",
   "language": "python",
   "name": "python3"
  },
  "language_info": {
   "codemirror_mode": {
    "name": "ipython",
    "version": 3
   },
   "file_extension": ".py",
   "mimetype": "text/x-python",
   "name": "python",
   "nbconvert_exporter": "python",
   "pygments_lexer": "ipython3",
   "version": "3.11.4"
  }
 },
 "nbformat": 4,
 "nbformat_minor": 5
}
